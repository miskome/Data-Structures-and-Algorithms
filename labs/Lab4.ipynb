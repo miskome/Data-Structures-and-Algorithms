{
 "cells": [
  {
   "cell_type": "markdown",
   "id": "fifteen-sailing",
   "metadata": {},
   "source": [
    "# Лабораторная работа №4\n",
    "## Выполнил студент группы БФИ2001 Чуйкин Максим"
   ]
  },
  {
   "cell_type": "markdown",
   "id": "arctic-stocks",
   "metadata": {},
   "source": [
    "Реализовать следующие структуры данных:\n",
    "  \n",
    "● <b> Стек (stack): </b>  \n",
    "Операции для стека: \n",
    "<i> инициализация, проверка на пустоту, добавление нового элемента в начало, извлечение элемента из начала;  </i>  \n",
    "  \n",
    "● <b> Дек (двусторонняя очередь, deque):  </b>  \n",
    "Операции для дека: \n",
    "<i> инициализация, проверка на пустоту, добавление нового элемента в начало, добавление нового элемента в конец, извлечение элемента из начала, извлечение элемента из конца. </i>  \n",
    "  \n",
    "<i> Разработать программу обработки данных, содержащихся в заранее подготовленном txt-файле, в соответствии с заданиями, применив указанную в задании структуру данных. Результат работы программы вывести на экран и сохранить в отдельном txt-файле. </i>"
   ]
  },
  {
   "cell_type": "code",
   "execution_count": 1,
   "id": "2024f8cb-1a0f-40a6-9854-7cdcf9c826f5",
   "metadata": {},
   "outputs": [],
   "source": [
    "class Stack:\n",
    "    def __init__(self):\n",
    "        self.s = []\n",
    "\n",
    "    def isSimple(self):\n",
    "        return self.s == []\n",
    "\n",
    "    def add(self, el):\n",
    "        self.s.append(el)\n",
    "\n",
    "    def get(self):\n",
    "        if self.isSimple() == False:\n",
    "            a = self.s[-1]\n",
    "            del self.s[-1]\n",
    "            return a\n",
    "        else:\n",
    "            return -1"
   ]
  },
  {
   "cell_type": "code",
   "execution_count": 2,
   "id": "ee0297c7-7cef-441d-831d-65132bf49b17",
   "metadata": {},
   "outputs": [],
   "source": [
    "class Deque:\n",
    "    def __init__(self):\n",
    "        self.s = []\n",
    "\n",
    "    def isSimple(self):\n",
    "        return self.s == []\n",
    "\n",
    "    def addleft(self, el):\n",
    "        self.s.insert(0, el)\n",
    "\n",
    "    def add(self, el):\n",
    "        self.s.append(el)\n",
    "\n",
    "    def get(self):\n",
    "        if self.isSimple() == False:\n",
    "            a = self.s.pop()\n",
    "            return a\n",
    "        else:\n",
    "            return -1\n",
    "\n",
    "    def getleft(self):\n",
    "        if self.isSimple() == False:\n",
    "            a = self.s[0]\n",
    "            del self.s[0]\n",
    "            return a\n",
    "        else:\n",
    "            return -1"
   ]
  },
  {
   "cell_type": "markdown",
   "id": "5d7edb08",
   "metadata": {},
   "source": [
    "### Задание №1\n",
    "Отсортировать строки файла, содержащие названия книг, в алфавитном порядке с использованием двух деков."
   ]
  },
  {
   "cell_type": "code",
   "execution_count": 3,
   "id": "17702ade",
   "metadata": {},
   "outputs": [
    {
     "name": "stdout",
     "output_type": "stream",
     "text": [
      "Входные данные:\n",
      "green mile\n",
      "sherlock holmes\n",
      "gone with the wind\n",
      "\n",
      "Выходные данные:\n",
      "green mile\n",
      "gone with the wind\n",
      "sherlock holmes\n"
     ]
    }
   ],
   "source": [
    "deq1 = Deque()\n",
    "deq2 = Deque()\n",
    "file = open('E:\\\\study\\\\4 sem\\\\сиаод\\\\hw\\\\lab4\\\\books.txt', 'r')\n",
    "print('Входные данные:')\n",
    "print(file.read())\n",
    "file.close()\n",
    "file = open('E:\\\\study\\\\4 sem\\\\сиаод\\\\hw\\\\lab4\\\\books.txt', 'r')\n",
    "for i in file.readlines():\n",
    "    i = i.strip()\n",
    "    deq1.add((ord(i[0]), i))\n",
    "file.close()\n",
    "output = ''\n",
    "\n",
    "Flag = True\n",
    "while Flag:\n",
    "    if deq2.isSimple():\n",
    "        deq2.add(deq1.get())\n",
    "    else:\n",
    "        num, line = deq1.get()\n",
    "        if num <= deq2.s[0][0]:\n",
    "            deq2.addleft((num, line))\n",
    "        elif num >= deq2.s[-1][0]:\n",
    "            deq2.add((num, line))\n",
    "        else:\n",
    "            temp = deq1.s\n",
    "            deq1.s = deq2.s\n",
    "            deq2.s = t\n",
    "        if deq1.isSimple():\n",
    "            Flag = False\n",
    "\n",
    "for i in deq2.s:\n",
    "    output += i[1] + '\\n'\n",
    "output = output[:-1]\n",
    "print('Выходные данные:')\n",
    "print(output)\n",
    "file = open('E:\\\\study\\\\4 sem\\\\сиаод\\\\hw\\\\lab4\\\\result.txt', 'w')\n",
    "file.write(output)\n",
    "file.close()"
   ]
  },
  {
   "cell_type": "markdown",
   "id": "49fbd2a0",
   "metadata": {},
   "source": [
    "### Задание №2\n",
    "Дек содержит последовательность символов для шифровки сообщений. Дан текстовый файл, содержащий зашифрованное сообщение. Пользуясь деком, расшифровать текст. \n",
    "Известно, что при шифровке каждый символ сообщения заменялся следующим за ним в деке по часовой стрелке через один."
   ]
  },
  {
   "cell_type": "code",
   "execution_count": 4,
   "id": "81cab7a8",
   "metadata": {},
   "outputs": [
    {
     "name": "stdout",
     "output_type": "stream",
     "text": [
      "Входные данные:\n",
      "llo world!!He\n",
      "\n",
      "Выходные данные:\n",
      "Hello world!!\n"
     ]
    }
   ],
   "source": [
    "deque = Deque()\n",
    "file = open('E:\\\\study\\\\4 sem\\\\сиаод\\\\hw\\\\lab4\\\\encrypted.txt', 'r')\n",
    "text = file.read()\n",
    "file.close()\n",
    "print('Входные данные:')\n",
    "print(text)\n",
    "deque.s = list(text)\n",
    "output = ''\n",
    "for i in range(2):\n",
    "    deque.addleft(deque.get())\n",
    "while deque.isSimple() == False:\n",
    "    output += deque.getleft()\n",
    "print()\n",
    "print('Выходные данные:')\n",
    "print(output)\n",
    "file = open('E:\\\\study\\\\4 sem\\\\сиаод\\\\hw\\\\lab4\\\\decoded.txt', 'w')\n",
    "file.write(output)\n",
    "file.close()"
   ]
  },
  {
   "cell_type": "markdown",
   "id": "c0894f47",
   "metadata": {},
   "source": [
    "### Задание №3\n",
    "Даны три стержня и n дисков различного размера. Диски можно надевать на стержни, образуя из них башни. Перенести n дисков со стержня А на стержень С, сохранив их первоначальный порядок. При переносе дисков необходимо соблюдать следующие правила:\n",
    "- на каждом шаге со стержня на стержень переносить только один диск;\n",
    "- диск нельзя помещать на диск меньшего размера;\n",
    "- для промежуточного хранения можно использовать стержень В.\n",
    "Реализовать алгоритм, используя три стека вместо стержней А, В, С. Информация о дисках хранится в исходном файле."
   ]
  },
  {
   "cell_type": "code",
   "execution_count": 5,
   "id": "9e91a9d4",
   "metadata": {},
   "outputs": [
    {
     "name": "stdout",
     "output_type": "stream",
     "text": [
      "Входные данные:\n",
      "30 20 15 10 5\n"
     ]
    },
    {
     "name": "stdin",
     "output_type": "stream",
     "text": [
      "Введите n:  5\n"
     ]
    },
    {
     "name": "stdout",
     "output_type": "stream",
     "text": [
      "\n",
      "Выходные данные:\n",
      "a: \n",
      "b:\n",
      "c: 30 20 15 10 5 \n"
     ]
    }
   ],
   "source": [
    "file = open('E:\\\\study\\\\4 sem\\\\сиаод\\\\hw\\\\lab4\\\\disks.txt', 'r')\n",
    "text = file.read()\n",
    "file.close()\n",
    "print('Входные данные:')\n",
    "print(text)\n",
    "a = Stack()\n",
    "b = Stack()\n",
    "c = Stack()\n",
    "discs = list(map(int, text.split()))\n",
    "a.s = discs.copy()\n",
    "n = int(input('Введите n: '))\n",
    "counter = 0\n",
    "while counter != n:\n",
    "    for i in range(len(discs) - counter - 1):\n",
    "        b.add(a.get())\n",
    "    c.add(a.get())\n",
    "\n",
    "    for i in range(len(discs) - counter - 1):\n",
    "        a.add(b.get())\n",
    "\n",
    "    counter += 1\n",
    "print()\n",
    "output = 'a: '\n",
    "for i in a.s:\n",
    "    output += str(i) + ' '\n",
    "output += '\\n'\n",
    "output += 'b:'\n",
    "for i in b.s:\n",
    "    output += str(i) + ' '\n",
    "output += '\\n'\n",
    "output += 'c: '\n",
    "for i in c.s:\n",
    "    output += str(i) + ' '\n",
    "\n",
    "\n",
    "print('Выходные данные:')\n",
    "print(output)\n",
    "file = open('E:\\\\study\\\\4 sem\\\\сиаод\\\\hw\\\\lab4\\\\cdisks.txt', 'w')\n",
    "file.write(output)\n",
    "file.close()"
   ]
  },
  {
   "cell_type": "markdown",
   "id": "e5b0be17",
   "metadata": {},
   "source": [
    "### Задание №4\n",
    "Дан текстовый файл с программой на алгоритмическом языке. За один просмотр файла проверить баланс круглых скобок в тексте, используя стек."
   ]
  },
  {
   "cell_type": "code",
   "execution_count": 8,
   "id": "5b1df60a",
   "metadata": {},
   "outputs": [
    {
     "name": "stdout",
     "output_type": "stream",
     "text": [
      "Входные данные:\n",
      "()()()()()())\n",
      "\n",
      "Выходные данные:\n",
      "False\n"
     ]
    }
   ],
   "source": [
    "file = open('E:\\\\study\\\\4 sem\\\\сиаод\\\\hw\\\\lab4\\\\code.txt', 'r')\n",
    "text = file.read()\n",
    "file.close()\n",
    "print('Входные данные:')\n",
    "print(text)\n",
    "stack = Stack()\n",
    "Flag = True\n",
    "for sym in text:\n",
    "    if sym == '(':\n",
    "        stack.add(sym)\n",
    "    elif sym == ')':\n",
    "        if stack.isSimple():\n",
    "            Flag = False\n",
    "            break\n",
    "        else:\n",
    "            stack.get()\n",
    "if stack.isSimple() == False:\n",
    "    Flag = False\n",
    "\n",
    "output = str(Flag)\n",
    "print()\n",
    "print('Выходные данные:')\n",
    "print(output)\n",
    "file = open('E:\\\\study\\\\4 sem\\\\сиаод\\\\hw\\\\lab4\\\\res4.txt', 'w')\n",
    "file.write(output)\n",
    "file.close()"
   ]
  },
  {
   "cell_type": "markdown",
   "id": "c44cdd6b",
   "metadata": {},
   "source": [
    "### Задание №5\n",
    "Дан текстовый файл с программой на алгоритмическом языке. За один просмотр файла проверить баланс квадратных скобок в тексте, используя дек."
   ]
  },
  {
   "cell_type": "code",
   "execution_count": 9,
   "id": "36b8f400",
   "metadata": {},
   "outputs": [
    {
     "name": "stdout",
     "output_type": "stream",
     "text": [
      "Входные данные:\n",
      "[][][][]][[][][\n",
      "\n",
      "Выходные данные:\n",
      "False\n"
     ]
    }
   ],
   "source": [
    "file = open('E:\\\\study\\\\4 sem\\\\сиаод\\\\hw\\\\lab4\\\\code2.txt', 'r')\n",
    "text = file.read()\n",
    "file.close()\n",
    "print('Входные данные:')\n",
    "print(text)\n",
    "stack = Deque()\n",
    "Flag = True\n",
    "for sym in text:\n",
    "    if sym == '[':\n",
    "        stack.add(sym)\n",
    "    elif sym == ']':\n",
    "        if stack.isSimple():\n",
    "            Flag = False\n",
    "            break\n",
    "        else:\n",
    "            stack.getleft()\n",
    "if stack.isSimple() == False:\n",
    "    Flag = False\n",
    "\n",
    "output = str(Flag)\n",
    "print()\n",
    "print('Выходные данные:')\n",
    "print(output)\n",
    "file = open('E:\\\\study\\\\4 sem\\\\сиаод\\\\hw\\\\lab4\\\\res5.txt', 'w')\n",
    "file.write(output)\n",
    "file.close()"
   ]
  },
  {
   "cell_type": "markdown",
   "id": "59d13dc7",
   "metadata": {},
   "source": [
    "### Задание №6\n",
    "Дан файл из символов. Используя стек, за один просмотр файла напечатать сначала все цифры, затем все буквы, и, наконец, все остальные символы, сохраняя исходный порядок в каждой группе символов."
   ]
  },
  {
   "cell_type": "code",
   "execution_count": 10,
   "id": "297e36c2",
   "metadata": {},
   "outputs": [
    {
     "name": "stdout",
     "output_type": "stream",
     "text": [
      "Входные данные:\n",
      "fhiorehoi141hh@122@$@(%kne\n",
      "\n",
      "Выходные данные:\n",
      "141122\n",
      "fhiorehoihhkne\n",
      "@@$@(%\n"
     ]
    }
   ],
   "source": [
    "digits = Stack()\n",
    "alphabets = Stack()\n",
    "symbols = Stack()\n",
    "\n",
    "dglen = 0\n",
    "alphalen = 0\n",
    "symblen = 0\n",
    "\n",
    "file = open('E:\\\\study\\\\4 sem\\\\сиаод\\\\hw\\\\lab4\\\\n6.txt', 'r')\n",
    "text = file.read()\n",
    "file.close()\n",
    "print('Входные данные:')\n",
    "print(text)\n",
    "for i in reversed(text):\n",
    "    if i.isalpha():\n",
    "        alphabets.add(i)\n",
    "        alphalen += 1\n",
    "    elif i.isdigit():\n",
    "        digits.add(i)\n",
    "        dglen += 1\n",
    "    else:\n",
    "        symbols.add(i)\n",
    "        symblen += 1\n",
    "file.close()\n",
    "output = ''\n",
    "for i in range(dglen):\n",
    "    output += digits.get()\n",
    "output += '\\n'\n",
    "for i in range(alphalen):\n",
    "    output += alphabets.get()\n",
    "output += '\\n'\n",
    "for i in range(symblen):\n",
    "    output += symbols.get()\n",
    "print()\n",
    "print('Выходные данные:')\n",
    "print(output)\n",
    "file = open('E:\\\\study\\\\4 sem\\\\сиаод\\\\hw\\\\lab4\\\\res6.txt', 'w')\n",
    "file.write(output)\n",
    "file.close()"
   ]
  },
  {
   "cell_type": "markdown",
   "id": "973f68bd",
   "metadata": {},
   "source": [
    "### Задание №7\n",
    "Дан файл из целых чисел. Используя дек, за один просмотр файла напечатать сначала все отрицательные числа, затем все положительные числа, сохраняя исходный порядок в каждой группе."
   ]
  },
  {
   "cell_type": "code",
   "execution_count": 11,
   "id": "c56fad66",
   "metadata": {},
   "outputs": [
    {
     "name": "stdout",
     "output_type": "stream",
     "text": [
      "Входные данные:\n",
      "11 22 -7 -2 -1 214 -42\n",
      "\n",
      "Выходные данные:\n",
      "-7 -2 -1 -42 \n",
      "11 22 214 \n"
     ]
    }
   ],
   "source": [
    "file = open('E:\\\\study\\\\4 sem\\\\сиаод\\\\hw\\\\lab4\\\\n7.txt', 'r')\n",
    "text = file.read()\n",
    "file.close()\n",
    "print('Входные данные:')\n",
    "print(text)\n",
    "text = list(map(int, text.split()))\n",
    "counter = 0\n",
    "deque = Deque()\n",
    "for i in reversed(text):\n",
    "    if i >= 0:\n",
    "        deque.add(i)\n",
    "    else:\n",
    "        deque.addleft(i)\n",
    "        counter += 1\n",
    "\n",
    "output = ''\n",
    "\n",
    "for i in range(counter):\n",
    "    output += str(deque.getleft()) + ' '\n",
    "output += '\\n'\n",
    "while deque.isSimple() == False:\n",
    "    output += str(deque.get()) + ' '\n",
    "print()\n",
    "print('Выходные данные:')\n",
    "print(output)\n",
    "file = open('E:\\\\study\\\\4 sem\\\\сиаод\\\\hw\\\\lab4\\\\res7.txt', 'w')\n",
    "file.write(output)\n",
    "file.close()"
   ]
  },
  {
   "cell_type": "markdown",
   "id": "b9228191",
   "metadata": {},
   "source": [
    "### Задание №8\n",
    "Дан текстовый файл. Используя стек, сформировать новый текстовый файл, содержащий строки исходного файла, записанные в обратном порядке: первая строка становится последней, вторая – предпоследней и т.д."
   ]
  },
  {
   "cell_type": "code",
   "execution_count": 14,
   "id": "981fbdfe",
   "metadata": {},
   "outputs": [
    {
     "name": "stdout",
     "output_type": "stream",
     "text": [
      "Входные данные:\n",
      "123\n",
      "456\n",
      "789\n",
      "\n",
      "Выходные данные:\n",
      "789\n",
      "456\n",
      "123\n"
     ]
    }
   ],
   "source": [
    "file = open('E:\\\\study\\\\4 sem\\\\сиаод\\\\hw\\\\lab4\\\\n8.txt', 'r')\n",
    "text = file.read()\n",
    "file.close()\n",
    "print('Входные данные:')\n",
    "print(text)\n",
    "file = open('E:\\\\study\\\\4 sem\\\\сиаод\\\\hw\\\\lab4\\\\n8.txt', 'r')\n",
    "text = file.readlines()\n",
    "file.close()\n",
    "stack = Stack()\n",
    "output = ''\n",
    "for line in text:\n",
    "    line = line.strip()\n",
    "    stack.add(line)\n",
    "while stack.isSimple() == False:\n",
    "    output += stack.get() + '\\n'\n",
    "output = output[:-1]\n",
    "print()\n",
    "print('Выходные данные:')\n",
    "print(output)\n",
    "file = open('E:\\\\study\\\\4 sem\\\\сиаод\\\\hw\\\\lab4\\\\res8.txt', 'w')\n",
    "file.write(output)\n",
    "file.close()"
   ]
  },
  {
   "cell_type": "markdown",
   "id": "rental-jerusalem",
   "metadata": {},
   "source": [
    "### Вывод\n"
   ]
  },
  {
   "cell_type": "markdown",
   "id": "0c2b8899",
   "metadata": {},
   "source": []
  }
 ],
 "metadata": {
  "kernelspec": {
   "display_name": "Python 3 (ipykernel)",
   "language": "python",
   "name": "python3"
  },
  "language_info": {
   "codemirror_mode": {
    "name": "ipython",
    "version": 3
   },
   "file_extension": ".py",
   "mimetype": "text/x-python",
   "name": "python",
   "nbconvert_exporter": "python",
   "pygments_lexer": "ipython3",
   "version": "3.10.0"
  }
 },
 "nbformat": 4,
 "nbformat_minor": 5
}
