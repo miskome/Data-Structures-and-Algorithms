{
 "cells": [
  {
   "cell_type": "markdown",
   "id": "fifteen-sailing",
   "metadata": {},
   "source": [
    "# Лабораторная работа №2\n",
    "## Выполнил студент группы БФИ2001 Чуйкин Максим"
   ]
  },
  {
   "cell_type": "markdown",
   "id": "particular-syndicate",
   "metadata": {},
   "source": [
    "### Оглавление\n",
    "1. [Задание 1](#Задание-№1)\n",
    "2. [Задание 2](#Задание-№2)\n",
    "3. [Задание 3](#Задание-№3)"
   ]
  },
  {
   "cell_type": "markdown",
   "id": "arctic-stocks",
   "metadata": {},
   "source": [
    "### Задание №1\n",
    "Реализовать методы поиска в соответствии с заданием. Организовать генерацию начального набора случайных данных. Для всех вариантов добавить реализацию добавления, поиска и удаления элементов. Оценить время работы каждого алгоритма поиска и сравнить его со временем работы стандартной функции поиска, используемой в выбранном языке программирования."
   ]
  },
  {
   "cell_type": "code",
   "execution_count": 1,
   "id": "caring-truck",
   "metadata": {
    "scrolled": true
   },
   "outputs": [
    {
     "name": "stdout",
     "output_type": "stream",
     "text": [
      "[11, 81, 19, 42, 86, 48, 76, 99, 91, 20]\n",
      "[11, 19, 20, 42, 48, 76, 81, 86, 91, 99]\n"
     ]
    },
    {
     "name": "stdin",
     "output_type": "stream",
     "text": [
      " 20\n"
     ]
    },
    {
     "name": "stdout",
     "output_type": "stream",
     "text": [
      "2\n"
     ]
    }
   ],
   "source": [
    "#Бинарный поиск\n",
    "import random\n",
    "\n",
    "def sort(nums):\n",
    "    if len(nums) <= 1:\n",
    "       return nums\n",
    "    else:\n",
    "        q = random.choice(nums)\n",
    "        l_nums = [n for n in nums if n < q]\n",
    "        e_nums = [q] * nums.count(q)\n",
    "        b_nums = [n for n in nums if n > q]\n",
    "        return sort(l_nums) + e_nums + sort(b_nums)\n",
    "\n",
    "def find(mas, num):\n",
    "    for i in range(0,len(mas) - 1):\n",
    "        if mas[i] >= num:\n",
    "            return i\n",
    "    return len(mas)\n",
    "\n",
    "def add(mas, num):\n",
    "    mas.append(0)\n",
    "    index = find(mas, num)\n",
    "    temp = mas[index]\n",
    "    for i in range(index, len(mas)):\n",
    "        mas[i], temp = temp, mas[i]\n",
    "    mas[index] = num\n",
    "    return mas\n",
    "\n",
    "def erase(mas, num):\n",
    "    index = binS(mas, num)\n",
    "    mas.pop(index)\n",
    "    return mas\n",
    "    \n",
    "def binS(mas, x):\n",
    "    index = -1\n",
    "    left = 0\n",
    "    right = len(mas) - 1\n",
    "    while left <= right and index == -1:\n",
    "        mid = (left + right) // 2\n",
    "        if mas[mid] == x:\n",
    "            index = mid\n",
    "        else:\n",
    "            if mas[mid] > x:\n",
    "                right -= 1                \n",
    "            elif mas[mid] < x:\n",
    "                left += 1\n",
    "    return index\n",
    "\n",
    "mas = []\n",
    "n = 10\n",
    "for i in range(n):\n",
    "    mas.append(random.randint(0, 100))\n",
    "\n",
    "print(mas)\n",
    "mas = sort(mas)\n",
    "print(mas)\n",
    "x = int(input())\n",
    "print(binS(mas, x))"
   ]
  },
  {
   "cell_type": "code",
   "execution_count": 2,
   "id": "75af3ea8",
   "metadata": {},
   "outputs": [
    {
     "name": "stdout",
     "output_type": "stream",
     "text": [
      "1\n",
      "2\n",
      "3\n",
      "4\n",
      "5\n",
      "6\n",
      "7\n",
      "8\n",
      "9\n",
      "...\n",
      "1\n",
      "2\n",
      "3\n",
      "4\n",
      "5\n",
      "6\n",
      "7\n",
      "8\n",
      "9\n",
      "20\n"
     ]
    }
   ],
   "source": [
    "#Бинарное дерево\n",
    "class node:\n",
    "\tdef __init__(self, data):\n",
    "\t\tself.left = None\n",
    "\t\tself.right = None\n",
    "\t\tself.data = data\n",
    "\n",
    "\tdef insert(self, data):\n",
    "\t\tif data < self.data:\n",
    "\t\t\tif self.left == None:\n",
    "\t\t\t\tself.left = node(data)\n",
    "\t\t\telse:\n",
    "\t\t\t\tself.left.insert(data)\n",
    "\t\telif data > self.data:\n",
    "\t\t\tif self.right == None:\n",
    "\t\t\t\tself.right = node(data)\n",
    "\t\t\telse:\n",
    "\t\t\t\tself.right.insert(data)\n",
    "\t\telse:\n",
    "\t\t\tself.data = data\n",
    "\n",
    "\tdef find(self):\n",
    "\t\tif self.left:\n",
    "\t\t\tself.left.find()\n",
    "\t\telse:\n",
    "\t\t\tif self.right:\n",
    "\t\t\t\ttemp = self.data\n",
    "\t\t\t\tself.data = self.right\n",
    "\t\t\t\treturn temp\t\n",
    "\t\t\telse:\n",
    "\t\t\t\ttemp = self.data\n",
    "\t\t\t\tself.data = None\n",
    "\t\t\t\treturn temp\n",
    "\n",
    "def in_order(node):\n",
    "\tif node:\n",
    "\t\tin_order(node.left)\n",
    "\t\tprint(node.data)\n",
    "\t\tin_order(node.right)\t\n",
    "\t\n",
    "\n",
    "tree = node(5)\n",
    "tree.insert(3)\n",
    "tree.insert(1)\n",
    "tree.insert(2)\n",
    "tree.insert(4)\n",
    "tree.insert(7)\n",
    "tree.insert(6)\n",
    "tree.insert(8)\n",
    "tree.insert(9)\n",
    "in_order(tree)\n",
    "tree.insert(20)\n",
    "print(\"...\")\n",
    "in_order(tree)"
   ]
  },
  {
   "cell_type": "code",
   "execution_count": 3,
   "id": "abe4b0b4",
   "metadata": {},
   "outputs": [
    {
     "name": "stdout",
     "output_type": "stream",
     "text": [
      "[47, 12, 10, 51, 99, 13, 81, 78, 75, 86]\n",
      "[10, 12, 13, 47, 51, 75, 78, 81, 86, 99]\n"
     ]
    },
    {
     "name": "stdin",
     "output_type": "stream",
     "text": [
      " 47\n"
     ]
    },
    {
     "name": "stdout",
     "output_type": "stream",
     "text": [
      "3\n"
     ]
    }
   ],
   "source": [
    "#Метод Фибоначчи\n",
    "import random\n",
    "\n",
    "def FibonacciSearch(lys, val):\n",
    "    fibM_minus_2 = 0\n",
    "    fibM_minus_1 = 1\n",
    "    fibM = fibM_minus_1 + fibM_minus_2\n",
    "    while (fibM < len(lys)):\n",
    "        fibM_minus_2 = fibM_minus_1\n",
    "        fibM_minus_1 = fibM\n",
    "        fibM = fibM_minus_1 + fibM_minus_2\n",
    "    index = -1;\n",
    "    while (fibM > 1):\n",
    "        i = min(index + fibM_minus_2, (len(lys)-1))\n",
    "        if (lys[i] < val):\n",
    "            fibM = fibM_minus_1\n",
    "            fibM_minus_1 = fibM_minus_2\n",
    "            fibM_minus_2 = fibM - fibM_minus_1\n",
    "            index = i\n",
    "        elif (lys[i] > val):\n",
    "            fibM = fibM_minus_2\n",
    "            fibM_minus_1 = fibM_minus_1 - fibM_minus_2\n",
    "            fibM_minus_2 = fibM - fibM_minus_1\n",
    "        else :\n",
    "            return i\n",
    "    if(fibM_minus_1 and index < (len(lys)-1) and lys[index+1] == val):\n",
    "        return index+1;\n",
    "    return -1\n",
    "\n",
    "def add(mas, num):\n",
    "    mas.append(0)\n",
    "    index = find(mas, num)\n",
    "    temp = mas[index]\n",
    "    for i in range(index, len(mas)):\n",
    "        mas[i], temp = temp, mas[i]\n",
    "    mas[index] = num\n",
    "    return mas\n",
    "\n",
    "def erase(mas, num):\n",
    "    index = FibonacciSearch(mas, num)\n",
    "    mas.pop(index)\n",
    "    return mas\n",
    "\n",
    "def sort(nums):\n",
    "    if len(nums) <= 1:\n",
    "       return nums\n",
    "    else:\n",
    "        q = random.choice(nums)\n",
    "        l_nums = [n for n in nums if n < q]\n",
    "        e_nums = [q] * nums.count(q)\n",
    "        b_nums = [n for n in nums if n > q]\n",
    "        return sort(l_nums) + e_nums + sort(b_nums)\n",
    "\n",
    "mas = []\n",
    "n = 10\n",
    "for i in range(n):\n",
    "    mas.append(random.randint(0, 100))\n",
    "\n",
    "print(mas)\n",
    "mas = sort(mas)\n",
    "print(mas)\n",
    "val = int(input())\n",
    "print(FibonacciSearch(mas, val))"
   ]
  },
  {
   "cell_type": "code",
   "execution_count": 4,
   "id": "34ec2894",
   "metadata": {},
   "outputs": [
    {
     "name": "stdout",
     "output_type": "stream",
     "text": [
      "[88, 94, 66, 94, 52, 62, 0, 38, 60, 9]\n",
      "[0, 9, 38, 52, 60, 62, 66, 88, 94, 94]\n"
     ]
    },
    {
     "name": "stdin",
     "output_type": "stream",
     "text": [
      " 60\n"
     ]
    },
    {
     "name": "stdout",
     "output_type": "stream",
     "text": [
      "4\n"
     ]
    }
   ],
   "source": [
    "#Интерполяционный\n",
    "def InterpolationSearch(lys, val):\n",
    "    low = 0\n",
    "    high = (len(lys) - 1)\n",
    "    while low <= high and val >= lys[low] and val <= lys[high]:\n",
    "        index = low + int(((float(high - low) / ( lys[high] - lys[low])) * ( val - lys[low])))\n",
    "        if lys[index] == val:\n",
    "            return index\n",
    "        if lys[index] < val:\n",
    "            low = index + 1;\n",
    "        else:\n",
    "            high = index - 1;\n",
    "    return -1\n",
    "\n",
    "def add(mas, num):\n",
    "    mas.append(0)\n",
    "    index = find(mas, num)\n",
    "    temp = mas[index]\n",
    "    for i in range(index, len(mas)):\n",
    "        mas[i], temp = temp, mas[i]\n",
    "    mas[index] = num\n",
    "    return mas\n",
    "\n",
    "def erase(mas, num):\n",
    "    index = InterpolationSearch(mas, num)\n",
    "    mas.pop(index)\n",
    "    return mas\n",
    "\n",
    "def sort(nums):\n",
    "    if len(nums) <= 1:\n",
    "       return nums\n",
    "    else:\n",
    "        q = random.choice(nums)\n",
    "        l_nums = [n for n in nums if n < q]\n",
    "        e_nums = [q] * nums.count(q)\n",
    "        b_nums = [n for n in nums if n > q]\n",
    "        return sort(l_nums) + e_nums + sort(b_nums)\n",
    "\n",
    "mas = []\n",
    "n = 10\n",
    "for i in range(n):\n",
    "    mas.append(random.randint(0, 100))\n",
    "\n",
    "print(mas)\n",
    "mas = sort(mas)\n",
    "print(mas)\n",
    "val = int(input())\n",
    "print(InterpolationSearch(mas, val))"
   ]
  },
  {
   "cell_type": "markdown",
   "id": "maritime-conversation",
   "metadata": {},
   "source": [
    "### Задание №2\n",
    "Написать соответствующие решения для заданных методов."
   ]
  },
  {
   "cell_type": "code",
   "execution_count": 5,
   "id": "97f9de37",
   "metadata": {},
   "outputs": [
    {
     "name": "stdout",
     "output_type": "stream",
     "text": [
      "[100, 19, 98, 74, 89, 33, 15, 18, 10, 31]\n",
      "{100: 100, 109: 19, 108: 98, 104: 74, 119: 89, 103: 33, 105: 15, 118: 18, 110: 10, 101: 31}\n"
     ]
    },
    {
     "name": "stdin",
     "output_type": "stream",
     "text": [
      " 33\n"
     ]
    },
    {
     "name": "stdout",
     "output_type": "stream",
     "text": [
      "103\n"
     ]
    }
   ],
   "source": [
    "#Простое рехэширование\n",
    "import random\n",
    "\n",
    "def gethash(x, n):\n",
    "    return 100 + x % n\n",
    "\n",
    "def find(addresses, x, n):\n",
    "    address = gethash(x, n)\n",
    "    while addresses[address] != x:\n",
    "        address += 10\n",
    "    return address\n",
    "\n",
    "mas = []\n",
    "n = 10\n",
    "for i in range(n):\n",
    "    mas.append(random.randint(0, 100))\n",
    "\n",
    "addresses = dict()\n",
    "\n",
    "for num in mas:\n",
    "    address = gethash(num, n)\n",
    "    while addresses.get(address):\n",
    "        address += 10\n",
    "    addresses[address] = num\n",
    "\n",
    "\n",
    "print(mas)\n",
    "print(addresses)\n",
    "x = int(input())\n",
    "print(find(addresses, x, n))"
   ]
  },
  {
   "cell_type": "code",
   "execution_count": 7,
   "id": "b4b80e3a",
   "metadata": {},
   "outputs": [
    {
     "name": "stdout",
     "output_type": "stream",
     "text": [
      "[78, 33, 95, 5, 97, 29, 65, 60, 60, 39]\n",
      "[19, 20, 16, 12, 12, 16, 16, 13, 11, 15, 10, 12, 11, 19, 10]\n",
      "{27: 78, 22: 33, 24: 95, 25: 5, 26: 97, 28: 29, 21: 65, 19: 60, 20: 60, 29: 39}\n"
     ]
    },
    {
     "name": "stdin",
     "output_type": "stream",
     "text": [
      " 65\n"
     ]
    },
    {
     "name": "stdout",
     "output_type": "stream",
     "text": [
      "21\n"
     ]
    }
   ],
   "source": [
    "#Рехэширование с помощью псевдослучайных чисел\n",
    "import random\n",
    "\n",
    "def gethash(x, n, add):\n",
    "    return x % n + add\n",
    "\n",
    "def find(addresses, x, n, mas4hash):\n",
    "    address = gethash(x, n, mas4hash[0])\n",
    "    i = 1\n",
    "    while addresses[address] != x:\n",
    "        address = gethash(x, n, mas4hash[i])\n",
    "        i += 1\n",
    "    return address\n",
    "\n",
    "mas = []\n",
    "n = 10\n",
    "for i in range(n):\n",
    "    mas.append(random.randint(0, 100))\n",
    "\n",
    "mas4hash = []\n",
    "m = 15\n",
    "\n",
    "for i in range(m):\n",
    "    mas4hash.append(random.randint(10, 20))\n",
    "\n",
    "addresses = dict()\n",
    "\n",
    "for num in mas:\n",
    "    address = gethash(num, n, mas4hash[0])\n",
    "    i = 1\n",
    "    while addresses.get(address):\n",
    "        address = gethash(num, n, mas4hash[i])\n",
    "        i += 1\n",
    "    addresses[address] = num\n",
    "\n",
    "print(mas)\n",
    "print(mas4hash)\n",
    "print(addresses)\n",
    "x = int(input())\n",
    "print(find(addresses, x, n, mas4hash))"
   ]
  },
  {
   "cell_type": "code",
   "execution_count": 8,
   "id": "1addc092",
   "metadata": {},
   "outputs": [
    {
     "name": "stdout",
     "output_type": "stream",
     "text": [
      "[37, 89, 27, 20, 76, 52, 90, 7, 38, 83]\n",
      "{107: [37, 27, 7], 109: [89], 100: [20, 90], 106: [76], 102: [52], 108: [38], 103: [83]}\n"
     ]
    },
    {
     "name": "stdin",
     "output_type": "stream",
     "text": [
      " 90\n"
     ]
    },
    {
     "name": "stdout",
     "output_type": "stream",
     "text": [
      "100\n"
     ]
    }
   ],
   "source": [
    "#Метод цепочек\n",
    "import random\n",
    "\n",
    "def gethash(x, n):\n",
    "    return 100 + x % n\n",
    "\n",
    "def find(addresses, x, n):\n",
    "    address = gethash(x, n)\n",
    "    i = 0\n",
    "    temp = addresses.get(address)\n",
    "    while temp[i] != x:\n",
    "        i += 1\n",
    "    return address\n",
    "\n",
    "mas = []\n",
    "n = 10\n",
    "for i in range(n):\n",
    "    mas.append(random.randint(0, 100))\n",
    "\n",
    "print(mas)\n",
    "\n",
    "addresses = dict()\n",
    "\n",
    "for num in mas:\n",
    "    address = gethash(num, n)\n",
    "    if addresses.get(address):\n",
    "        addresses[address].append(num)\n",
    "    else:\n",
    "        addresses[address] = [num]\n",
    "\n",
    "\n",
    "print(addresses)\n",
    "\n",
    "x = int(input())\n",
    "print(find(addresses, x, n))"
   ]
  },
  {
   "cell_type": "markdown",
   "id": "catholic-roots",
   "metadata": {},
   "source": [
    "### Задание №3\n",
    "Расставить на стандартной 64-клеточной шахматной доске 8 ферзей так, чтобы ни один из них не находился под боем другого». Подразумевается, что ферзь бьёт все клетки, расположенные по вертикалям, горизонталям и обеим диагоналям\n",
    "Написать программу,  которая находит хотя бы один способ решения задач.\n"
   ]
  },
  {
   "cell_type": "code",
   "execution_count": 9,
   "id": "09de30c9",
   "metadata": {},
   "outputs": [
    {
     "name": "stdout",
     "output_type": "stream",
     "text": [
      "(0, 4, 7, 5, 2, 6, 1, 3)\n",
      "(0, 5, 7, 2, 6, 3, 1, 4)\n",
      "(0, 6, 3, 5, 7, 1, 4, 2)\n",
      "(0, 6, 4, 7, 1, 3, 5, 2)\n",
      "(1, 3, 5, 7, 2, 0, 6, 4)\n",
      "(1, 4, 6, 0, 2, 7, 5, 3)\n",
      "(1, 4, 6, 3, 0, 7, 5, 2)\n",
      "(1, 5, 0, 6, 3, 7, 2, 4)\n",
      "(1, 5, 7, 2, 0, 3, 6, 4)\n",
      "(1, 6, 2, 5, 7, 4, 0, 3)\n",
      "(1, 6, 4, 7, 0, 3, 5, 2)\n",
      "(1, 7, 5, 0, 2, 4, 6, 3)\n",
      "(2, 0, 6, 4, 7, 1, 3, 5)\n",
      "(2, 4, 1, 7, 0, 6, 3, 5)\n",
      "(2, 4, 1, 7, 5, 3, 6, 0)\n",
      "(2, 4, 6, 0, 3, 1, 7, 5)\n",
      "(2, 4, 7, 3, 0, 6, 1, 5)\n",
      "(2, 5, 1, 4, 7, 0, 6, 3)\n",
      "(2, 5, 1, 6, 0, 3, 7, 4)\n",
      "(2, 5, 1, 6, 4, 0, 7, 3)\n",
      "(2, 5, 3, 0, 7, 4, 6, 1)\n",
      "(2, 5, 3, 1, 7, 4, 6, 0)\n",
      "(2, 5, 7, 0, 3, 6, 4, 1)\n",
      "(2, 5, 7, 0, 4, 6, 1, 3)\n",
      "(2, 5, 7, 1, 3, 0, 6, 4)\n",
      "(2, 6, 1, 7, 4, 0, 3, 5)\n",
      "(2, 6, 1, 7, 5, 3, 0, 4)\n",
      "(2, 7, 3, 6, 0, 5, 1, 4)\n",
      "(3, 0, 4, 7, 1, 6, 2, 5)\n",
      "(3, 0, 4, 7, 5, 2, 6, 1)\n",
      "(3, 1, 4, 7, 5, 0, 2, 6)\n",
      "(3, 1, 6, 2, 5, 7, 0, 4)\n",
      "(3, 1, 6, 2, 5, 7, 4, 0)\n",
      "(3, 1, 6, 4, 0, 7, 5, 2)\n",
      "(3, 1, 7, 4, 6, 0, 2, 5)\n",
      "(3, 1, 7, 5, 0, 2, 4, 6)\n",
      "(3, 5, 0, 4, 1, 7, 2, 6)\n",
      "(3, 5, 7, 1, 6, 0, 2, 4)\n",
      "(3, 5, 7, 2, 0, 6, 4, 1)\n",
      "(3, 6, 0, 7, 4, 1, 5, 2)\n",
      "(3, 6, 2, 7, 1, 4, 0, 5)\n",
      "(3, 6, 4, 1, 5, 0, 2, 7)\n",
      "(3, 6, 4, 2, 0, 5, 7, 1)\n",
      "(3, 7, 0, 2, 5, 1, 6, 4)\n",
      "(3, 7, 0, 4, 6, 1, 5, 2)\n",
      "(3, 7, 4, 2, 0, 6, 1, 5)\n",
      "(4, 0, 3, 5, 7, 1, 6, 2)\n",
      "(4, 0, 7, 3, 1, 6, 2, 5)\n",
      "(4, 0, 7, 5, 2, 6, 1, 3)\n",
      "(4, 1, 3, 5, 7, 2, 0, 6)\n",
      "(4, 1, 3, 6, 2, 7, 5, 0)\n",
      "(4, 1, 5, 0, 6, 3, 7, 2)\n",
      "(4, 1, 7, 0, 3, 6, 2, 5)\n",
      "(4, 2, 0, 5, 7, 1, 3, 6)\n",
      "(4, 2, 0, 6, 1, 7, 5, 3)\n",
      "(4, 2, 7, 3, 6, 0, 5, 1)\n",
      "(4, 6, 0, 2, 7, 5, 3, 1)\n",
      "(4, 6, 0, 3, 1, 7, 5, 2)\n",
      "(4, 6, 1, 3, 7, 0, 2, 5)\n",
      "(4, 6, 1, 5, 2, 0, 3, 7)\n",
      "(4, 6, 1, 5, 2, 0, 7, 3)\n",
      "(4, 6, 3, 0, 2, 7, 5, 1)\n",
      "(4, 7, 3, 0, 2, 5, 1, 6)\n",
      "(4, 7, 3, 0, 6, 1, 5, 2)\n",
      "(5, 0, 4, 1, 7, 2, 6, 3)\n",
      "(5, 1, 6, 0, 2, 4, 7, 3)\n",
      "(5, 1, 6, 0, 3, 7, 4, 2)\n",
      "(5, 2, 0, 6, 4, 7, 1, 3)\n",
      "(5, 2, 0, 7, 3, 1, 6, 4)\n",
      "(5, 2, 0, 7, 4, 1, 3, 6)\n",
      "(5, 2, 4, 6, 0, 3, 1, 7)\n",
      "(5, 2, 4, 7, 0, 3, 1, 6)\n",
      "(5, 2, 6, 1, 3, 7, 0, 4)\n",
      "(5, 2, 6, 1, 7, 4, 0, 3)\n",
      "(5, 2, 6, 3, 0, 7, 1, 4)\n",
      "(5, 3, 0, 4, 7, 1, 6, 2)\n",
      "(5, 3, 1, 7, 4, 6, 0, 2)\n",
      "(5, 3, 6, 0, 2, 4, 1, 7)\n",
      "(5, 3, 6, 0, 7, 1, 4, 2)\n",
      "(5, 7, 1, 3, 0, 6, 4, 2)\n",
      "(6, 0, 2, 7, 5, 3, 1, 4)\n",
      "(6, 1, 3, 0, 7, 4, 2, 5)\n",
      "(6, 1, 5, 2, 0, 3, 7, 4)\n",
      "(6, 2, 0, 5, 7, 4, 1, 3)\n",
      "(6, 2, 7, 1, 4, 0, 5, 3)\n",
      "(6, 3, 1, 4, 7, 0, 2, 5)\n",
      "(6, 3, 1, 7, 5, 0, 2, 4)\n",
      "(6, 4, 2, 0, 5, 7, 1, 3)\n",
      "(7, 1, 3, 0, 6, 4, 2, 5)\n",
      "(7, 1, 4, 2, 0, 6, 3, 5)\n",
      "(7, 2, 0, 5, 1, 4, 6, 3)\n",
      "(7, 3, 0, 2, 5, 1, 6, 4)\n",
      "  total number is 92\n",
      "  one of the range is:\n",
      "\n",
      ". . X . . . . . \n",
      ". . . . . X . . \n",
      ". . . . . . . X \n",
      ". X . . . . . . \n",
      ". . . X . . . . \n",
      "X . . . . . . . \n",
      ". . . . . . X . \n",
      ". . . . X . . . \n"
     ]
    }
   ],
   "source": [
    "import random\n",
    " \n",
    "def conflict(state,col):\n",
    "    row = len(state)\n",
    "    for i in range(row):\n",
    "        if abs (state [i] -col) in (0, row-i):\n",
    "            return True\n",
    "    return False\n",
    "    \n",
    "def queens(num=8,state=()):\n",
    "    for pos in range(num):\n",
    "        if not conflict(state, pos):\n",
    "            if len(state)==num-1:\n",
    "                yield(pos,)\n",
    "            else:\n",
    "                for result in queens(num, state+(pos,)):\n",
    "                    yield (pos,)+result\n",
    " \n",
    "def queenprint(solution):\n",
    "    def line(pos,length=len(solution)):\n",
    "        return '. '*(pos)+'X '+'. '*(length-pos-1)\n",
    "    for pos in solution:\n",
    "        print(line(pos))\n",
    "        \n",
    " \n",
    "for solution in list(queens(8)):\n",
    "    print(solution)\n",
    "    \n",
    "print('  total number is '+str(len(list(queens()))))\n",
    "print('  one of the range is:\\n')\n",
    "queenprint(random.choice(list(queens())))"
   ]
  },
  {
   "cell_type": "code",
   "execution_count": null,
   "id": "46c6e576-f0a4-4c15-9567-a46e9cf8ac0b",
   "metadata": {},
   "outputs": [],
   "source": []
  }
 ],
 "metadata": {
  "kernelspec": {
   "display_name": "Python 3 (ipykernel)",
   "language": "python",
   "name": "python3"
  },
  "language_info": {
   "codemirror_mode": {
    "name": "ipython",
    "version": 3
   },
   "file_extension": ".py",
   "mimetype": "text/x-python",
   "name": "python",
   "nbconvert_exporter": "python",
   "pygments_lexer": "ipython3",
   "version": "3.10.0"
  }
 },
 "nbformat": 4,
 "nbformat_minor": 5
}
