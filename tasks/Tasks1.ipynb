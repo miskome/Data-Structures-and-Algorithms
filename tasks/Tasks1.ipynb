{
 "cells": [
  {
   "cell_type": "markdown",
   "id": "244314fb",
   "metadata": {
    "tags": []
   },
   "source": [
    "# Task 1 Выполнил студент группы БФИ2001 Чуйкин Максим"
   ]
  },
  {
   "cell_type": "markdown",
   "id": "9243038a-25dc-4915-9f5d-06a3c69e3cbe",
   "metadata": {
    "tags": []
   },
   "source": [
    "# Задание 1"
   ]
  },
  {
   "cell_type": "markdown",
   "id": "64630386",
   "metadata": {},
   "source": [
    "Даны две строки: `s1` и `s2` с одинаковым размером.\n",
    "\n",
    "Проверьте, может ли некоторая перестановка строки `s1` “победить” некоторую перестановку строки `s2` или наоборот.\n",
    "\n",
    "Строка x может “победить” строку y (обе имеют размер n), если `x[i] >= y[i]` (в алфавитном порядке) для всех i от 0 до n-1.\n"
   ]
  },
  {
   "cell_type": "markdown",
   "id": "cf51dab2",
   "metadata": {},
   "source": [
    "## Ввод"
   ]
  },
  {
   "cell_type": "markdown",
   "id": "d697a747",
   "metadata": {},
   "source": [
    "`abc`\n",
    "`xya`"
   ]
  },
  {
   "cell_type": "markdown",
   "id": "50b10a2e",
   "metadata": {},
   "source": [
    "## Вывод"
   ]
  },
  {
   "cell_type": "markdown",
   "id": "55442a49",
   "metadata": {},
   "source": [
    "`True`\n",
    "\n",
    "### Исполняемый код записать в ячейку ниже:"
   ]
  },
  {
   "cell_type": "code",
   "execution_count": 1,
   "id": "3b0d440a",
   "metadata": {
    "tags": []
   },
   "outputs": [
    {
     "name": "stdout",
     "output_type": "stream",
     "text": [
      "True\n"
     ]
    }
   ],
   "source": [
    "# Метод сортировки вставкой\n",
    "def sort(mas, n):\n",
    "    for i in range(1, n):\n",
    "        j = i - 1\n",
    "        temp = mas[i]\n",
    "        while (mas[j] >= temp) and (j >= 0):\n",
    "            mas[j + 1] = mas[j]\n",
    "            j -= 1\n",
    "        mas[j + 1] = temp\n",
    "\n",
    "# Метод проверки соблюдения условия\n",
    "def check(m1, m2):\n",
    "    sort(m1, len(m1))\n",
    "    sort(m2, len(m2))\n",
    "    i = 0\n",
    "    Flag = 0\n",
    "    while i < len(m1):\n",
    "        if Flag == 0:\n",
    "            if m1[i] > m2[i]:\n",
    "                Flag = 1\n",
    "            elif m1[i] < m2[i]:\n",
    "                Flag = 2\n",
    "        else:\n",
    "            if m1[i] > m2[i] and not Flag == 1:\n",
    "                return False\n",
    "            elif m1[i] < m2[i] and not Flag == 2:\n",
    "                return False\n",
    "        i += 1\n",
    "    return True\n",
    "# Метод перевода строки в массив кодов символов\n",
    "def convert(str):\n",
    "    result = []\n",
    "    for sym in str:\n",
    "        result.append(ord(sym))\n",
    "    return result\n",
    "\n",
    "str1 = \"abc\"\n",
    "str2 = \"xya\"\n",
    "\n",
    "m1 = convert(str1)\n",
    "m2 = convert(str2)\n",
    "\n",
    "print(check(m1, m2))"
   ]
  },
  {
   "cell_type": "markdown",
   "id": "b3a969a6",
   "metadata": {},
   "source": [
    "# Задание 2"
   ]
  },
  {
   "cell_type": "markdown",
   "id": "9c1ce05d",
   "metadata": {},
   "source": [
    "Дана строка `s`, вернуть самую длинную полиндромную подстроку в `s`."
   ]
  },
  {
   "cell_type": "markdown",
   "id": "20415c0e",
   "metadata": {},
   "source": [
    "## Ввод"
   ]
  },
  {
   "cell_type": "markdown",
   "id": "e77fcb44",
   "metadata": {},
   "source": [
    "`babad`"
   ]
  },
  {
   "cell_type": "markdown",
   "id": "49996449",
   "metadata": {},
   "source": [
    "## Вывод"
   ]
  },
  {
   "cell_type": "markdown",
   "id": "75be2464",
   "metadata": {},
   "source": [
    "`aba` или `bab`"
   ]
  },
  {
   "cell_type": "markdown",
   "id": "12ef9771",
   "metadata": {},
   "source": [
    "## Исполняемый код записывать в ячейку ниже"
   ]
  },
  {
   "cell_type": "code",
   "execution_count": 3,
   "id": "3f06c4fc",
   "metadata": {},
   "outputs": [
    {
     "name": "stdout",
     "output_type": "stream",
     "text": [
      "bab\n"
     ]
    }
   ],
   "source": [
    "# Сетод поиска самого длинного полиндрома\n",
    "def polyFind(str):\n",
    "    maxlen = 0\n",
    "    longest_poly = \"\"\n",
    "    for i in range(0, len(str)):\n",
    "        j = 1 + i + maxlen\n",
    "        while j <= len(str) and maxlen < len(str) - i:\n",
    "            if str[i : j] == str[i:j][::-1]:\n",
    "                longest_poly = str[i : j]\n",
    "                maxlen = len(longest_poly)\n",
    "            j += 1\n",
    "    return longest_poly\n",
    "\n",
    "str = \"babad\"\n",
    "print(polyFind(str))"
   ]
  },
  {
   "cell_type": "markdown",
   "id": "5f54b630",
   "metadata": {},
   "source": [
    "# Задание 3"
   ]
  },
  {
   "cell_type": "markdown",
   "id": "566f1d3b",
   "metadata": {},
   "source": [
    "Вернуть количество отдельных непустых подстрок текста, которые могут быть записаны как конкатенация некоторой строки с самой собой (т.е. она может быть записана, как `a + a`, где `a` - некоторая строка)."
   ]
  },
  {
   "cell_type": "markdown",
   "id": "0f734fd8",
   "metadata": {},
   "source": [
    "## Ввод"
   ]
  },
  {
   "cell_type": "markdown",
   "id": "e0be5554",
   "metadata": {},
   "source": [
    "`aabb`"
   ]
  },
  {
   "cell_type": "markdown",
   "id": "ab8eda0b",
   "metadata": {},
   "source": [
    "## Вывод"
   ]
  },
  {
   "cell_type": "markdown",
   "id": "1d716d36",
   "metadata": {},
   "source": [
    "2"
   ]
  },
  {
   "cell_type": "markdown",
   "id": "fcd91349",
   "metadata": {},
   "source": [
    "## Исполняемый код записывать в ячейку ниже"
   ]
  },
  {
   "cell_type": "code",
   "execution_count": 1,
   "id": "be07379d",
   "metadata": {},
   "outputs": [
    {
     "name": "stdout",
     "output_type": "stream",
     "text": [
      "5\n"
     ]
    }
   ],
   "source": [
    "def check(str):\n",
    "\ttotalcount = 0\n",
    "\tfor i in range(0, len(str) - 1):\n",
    "\t\tj = i + 1\n",
    "\t\twhile j <= len(str):\n",
    "\t\t\tFlag = 0\n",
    "\t\t\tk = i\n",
    "\t\t\twhile k <= len(str) // 2 and Flag == 0:\n",
    "\t\t\t\tl = k + 1\n",
    "\t\t\t\twhile l <= len(str) + 1 // 2 and Flag == 0:\n",
    "\t\t\t\t\ttemps = str[k:l]\n",
    "\t\t\t\t\ttemps += str[k:l]\n",
    "\t\t\t\t\twhile len(temps) <= len(str[i:j]):\n",
    "\t\t\t\t\t\tif temps == str[i:j]:\n",
    "\t\t\t\t\t\t\ttotalcount += 1\n",
    "\t\t\t\t\t\t\tFlag = 1\n",
    "\t\t\t\t\t\ttemps += str[k:l]\n",
    "\t\t\t\t\tl += 1\n",
    "\t\t\t\tk += 1\n",
    "\t\t\tj += 1\n",
    "\treturn totalcount\n",
    "\n",
    "str = \"aabbaaabbbb\"\n",
    "\n",
    "print(check(str))"
   ]
  },
  {
   "cell_type": "code",
   "execution_count": null,
   "id": "1c1bf6ec-691d-4cde-8508-f8c5bbfafddd",
   "metadata": {},
   "outputs": [],
   "source": []
  }
 ],
 "metadata": {
  "kernelspec": {
   "display_name": "Python 3 (ipykernel)",
   "language": "python",
   "name": "python3"
  },
  "language_info": {
   "codemirror_mode": {
    "name": "ipython",
    "version": 3
   },
   "file_extension": ".py",
   "mimetype": "text/x-python",
   "name": "python",
   "nbconvert_exporter": "python",
   "pygments_lexer": "ipython3",
   "version": "3.10.0"
  }
 },
 "nbformat": 4,
 "nbformat_minor": 5
}
