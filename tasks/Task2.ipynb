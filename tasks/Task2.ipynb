{
 "cells": [
  {
   "cell_type": "markdown",
   "id": "arctic-stocks",
   "metadata": {},
   "source": [
    "### Task2 Выполнил студент группы БФИ2001 Чуйкин Максим"
   ]
  },
  {
   "cell_type": "markdown",
   "id": "e6988606-c99f-41ab-9403-d4bdaf8a1cfd",
   "metadata": {},
   "source": [
    "### Задание №1\n",
    "Массив A состоит из целых положительных чисел длин отрезков. Составьте из трех отрезков такой треугольник, чтобы его периметр был максимально возможным. Если невозможно составить треугольник с положительной площадью функция возвращает 0."
   ]
  },
  {
   "cell_type": "code",
   "execution_count": 1,
   "id": "caring-truck",
   "metadata": {},
   "outputs": [
    {
     "name": "stdout",
     "output_type": "stream",
     "text": [
      "[12, 15, 12, 10, 5, 13, 10, 7, 5, 7]\n",
      "[5, 5, 7, 7, 10, 10, 12, 12, 13, 15]\n",
      "15\n",
      "13\n",
      "12\n"
     ]
    }
   ],
   "source": [
    "import random\n",
    "\n",
    "def sort(nums):\n",
    "    if len(nums) <= 1:\n",
    "       return nums\n",
    "    else:\n",
    "        q = random.choice(nums)\n",
    "        l_nums = [n for n in nums if n < q]\n",
    "        e_nums = [q] * nums.count(q)\n",
    "        b_nums = [n for n in nums if n > q]\n",
    "        return sort(l_nums) + e_nums + sort(b_nums)\n",
    "\n",
    "mas = []\n",
    "n = 10\n",
    "for y in range(0, n):\n",
    "    mas.append(random.randint(1, 15))\n",
    "\n",
    "print(mas)\n",
    "mas = sort(mas)\n",
    "print(mas)\n",
    "\n",
    "print(mas[-1])\n",
    "print(mas[-2])\n",
    "print(mas[-3])"
   ]
  },
  {
   "cell_type": "markdown",
   "id": "maritime-conversation",
   "metadata": {},
   "source": [
    "### Задание №2\n",
    "Дан массив неотрицательных целых чисел nums. Расположите их в таком порядке, чтобы вместе они образовали максимально возможное число. Замечание: Результат может быть очень большим числом, поэтому представьте его как string, а не integer."
   ]
  },
  {
   "cell_type": "code",
   "execution_count": 2,
   "id": "alert-charm",
   "metadata": {},
   "outputs": [
    {
     "name": "stdout",
     "output_type": "stream",
     "text": [
      "9743332111111\n"
     ]
    }
   ],
   "source": [
    "def sort(nums):\n",
    "    if len(nums) <= 1:\n",
    "       return nums\n",
    "    else:\n",
    "        q = random.choice(nums)\n",
    "        l_nums = [n for n in nums if n < q]\n",
    "        e_nums = [q] * nums.count(q)\n",
    "        b_nums = [n for n in nums if n > q]\n",
    "        return sort(l_nums) + e_nums + sort(b_nums)\n",
    "\n",
    "mas = []\n",
    "n = 10\n",
    "for y in range(0, n):\n",
    "    mas.append(random.randint(1, 15))\n",
    "nums = []\n",
    "\n",
    "for num in mas:\n",
    "    x = [int(a) for a in str(num)]\n",
    "    for t in x:\n",
    "        nums.append(t)\n",
    "nums = sort(nums)\n",
    "nums = nums[::-1]\n",
    "result = \"\"\n",
    "\n",
    "for num in nums:\n",
    "    result += str(num)\n",
    "\n",
    "print(result)"
   ]
  },
  {
   "cell_type": "markdown",
   "id": "catholic-roots",
   "metadata": {},
   "source": [
    "### Задание №3\n",
    "Дана матрица mat размером m * n, значения целочисленные. Напишите функцию, сортирующую каждую диагональ матрицы по возрастанию и возвращающую получившуюся матрицу."
   ]
  },
  {
   "cell_type": "code",
   "execution_count": 3,
   "id": "cleared-anniversary",
   "metadata": {},
   "outputs": [
    {
     "name": "stdout",
     "output_type": "stream",
     "text": [
      "  12   7  17  22   7  24   4   5  24  17\n",
      "  27  15   6   3   3   3  12  28   0  16\n",
      "  27  29   8  19  17   8  28  25   5  21\n",
      "   0  22  23   0  25  10   0  26  15   4\n",
      "  29  20  27   1  20  12   3  17   8  29\n",
      "  13  12  22   6  12   1  23   0  18  14\n",
      "  23  24   6  17  15  26  23  13   6  10\n",
      "  15  29   3  30  20   4  27  10  21  14\n",
      "  27   1  30  13   2   6  23  21  12  17\n",
      "  11  26  16  30  30   6  20  25  14   9\n",
      "Отсортированная:\n",
      "   0   6   0   0   3  12   4   0  16  17\n",
      "   1   1   7   3   3   7  15   4   5  24\n",
      "   4  12   8  12   3   8   8  24   5  21\n",
      "   0   6  14   9  13   6  10  14  25  28\n",
      "   2   6  15  21  10  17  10  17  26  29\n",
      "   3   6  17  22  23  12  19  14  18  28\n",
      "  23  13   6  20  23  26  12  21  17  22\n",
      "   1  29  13  12  20  25  27  15  23  17\n",
      "  26  15  30  24  29  20  27  27  20  25\n",
      "  11  27  16  30  30  30  22  27  29  23\n"
     ]
    }
   ],
   "source": [
    "def sort(nums):\n",
    "    if len(nums) <= 1:\n",
    "       return nums\n",
    "    else:\n",
    "        q = random.choice(nums)\n",
    "        l_nums = [n for n in nums if n < q]\n",
    "        e_nums = [q] * nums.count(q)\n",
    "        b_nums = [n for n in nums if n > q]\n",
    "        return sort(l_nums) + e_nums + sort(b_nums)\n",
    "\n",
    "def create_matrix(matrix, n, m):\n",
    "    for x in range(0, user_m):\n",
    "        temp = []\n",
    "        for y in range(0, user_n):\n",
    "                temp.append(random.randint(user_min_limit, user_max_limit))\n",
    "        matrix.append(temp)\n",
    "\n",
    "def create_mas(matrix, tn, tm, n, m):\n",
    "    mas = []\n",
    "    while tn <= n and tm <= m:\n",
    "        mas.append(matrix[tm][tn])\n",
    "        tn += 1\n",
    "        tm += 1\n",
    "    return mas\n",
    "\n",
    "def putmas(matrix, tn, tm, n, m, mas):\n",
    "    i = 0\n",
    "    while tn <= n and tm <= m:\n",
    "        matrix[tm][tn] = mas[i]\n",
    "        tn += 1\n",
    "        tm += 1\n",
    "        i += 1\n",
    "\n",
    "def sortd(matrix, tn, tm, n, m):\n",
    "    mas = create_mas(matrix, tn, tm, n, m)\n",
    "    mas = sort(mas)\n",
    "    putmas(matrix, tn, tm, n, m, mas)\n",
    "\n",
    "def printMatrix ( matrix ): \n",
    "   for row in matrix: \n",
    "      for x in row: \n",
    "          print ( \"{:4d}\".format(x), end = \"\" ) \n",
    "      print ()\n",
    "\n",
    "user_m = 10\n",
    "user_n = 10\n",
    "user_min_limit = 0\n",
    "user_max_limit = 30\n",
    "\n",
    "matrix = []\n",
    "create_matrix(matrix, user_n, user_m)\n",
    "user_m -= 1\n",
    "user_n -= 1\n",
    "printMatrix(matrix)\n",
    "\n",
    "for i in range(0, user_m + user_n + 2):\n",
    "    if i < user_m:\n",
    "        sortd(matrix, 0, user_m - i, user_n, user_m)\n",
    "    elif i > user_m:\n",
    "        sortd(matrix, i - user_m, 0, user_n, user_m)\n",
    "    else:\n",
    "        sortd(matrix, 0, 0, user_n, user_m)\n",
    "print(\"Отсортированная:\")\n",
    "printMatrix(matrix)"
   ]
  },
  {
   "cell_type": "code",
   "execution_count": null,
   "id": "586bff89-88d6-446e-9fdc-1f7818753284",
   "metadata": {},
   "outputs": [],
   "source": []
  }
 ],
 "metadata": {
  "kernelspec": {
   "display_name": "Python 3 (ipykernel)",
   "language": "python",
   "name": "python3"
  },
  "language_info": {
   "codemirror_mode": {
    "name": "ipython",
    "version": 3
   },
   "file_extension": ".py",
   "mimetype": "text/x-python",
   "name": "python",
   "nbconvert_exporter": "python",
   "pygments_lexer": "ipython3",
   "version": "3.10.0"
  }
 },
 "nbformat": 4,
 "nbformat_minor": 5
}
